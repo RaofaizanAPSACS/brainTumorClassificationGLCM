{
  "metadata": {
    "kernelspec": {
      "language": "python",
      "display_name": "Python 3",
      "name": "python3"
    },
    "language_info": {
      "name": "python",
      "version": "3.10.13",
      "mimetype": "text/x-python",
      "codemirror_mode": {
        "name": "ipython",
        "version": 3
      },
      "pygments_lexer": "ipython3",
      "nbconvert_exporter": "python",
      "file_extension": ".py"
    },
    "kaggle": {
      "accelerator": "none",
      "dataSources": [
        {
          "sourceId": 7888675,
          "sourceType": "datasetVersion",
          "datasetId": 4631233
        }
      ],
      "dockerImageVersionId": 30683,
      "isInternetEnabled": true,
      "language": "python",
      "sourceType": "notebook",
      "isGpuEnabled": false
    },
    "colab": {
      "provenance": []
    }
  },
  "nbformat_minor": 0,
  "nbformat": 4,
  "cells": [
    {
      "cell_type": "code",
      "source": [
        "import numpy as np # linear algebra\n",
        "import pandas as pd # data processing, CSV file I/O (e.g. pd.read_csv)\n",
        "\n",
        "# Input data files are available in the read-only \"../input/\" directory\n",
        "# For example, running this (by clicking run or pressing Shift+Enter) will list all files under the input directory\n",
        "\n",
        "import os\n",
        "for dirname, _, filenames in os.walk('/kaggle/input'):\n",
        "    for filename in filenames:\n",
        "        print(os.path.join(dirname, filename))"
      ],
      "metadata": {
        "_uuid": "8f2839f25d086af736a60e9eeb907d3b93b6e0e5",
        "_cell_guid": "b1076dfc-b9ad-4769-8c92-a6c4dae69d19",
        "scrolled": true,
        "execution": {
          "iopub.status.busy": "2024-05-14T06:44:28.202581Z",
          "iopub.execute_input": "2024-05-14T06:44:28.202989Z",
          "iopub.status.idle": "2024-05-14T06:44:30.420743Z",
          "shell.execute_reply.started": "2024-05-14T06:44:28.202958Z",
          "shell.execute_reply": "2024-05-14T06:44:30.419686Z"
        },
        "trusted": true,
        "id": "wFnuw9IzpSac"
      },
      "execution_count": null,
      "outputs": []
    },
    {
      "cell_type": "code",
      "source": [
        "import numpy as np\n",
        "import pandas as pd\n",
        "import matplotlib.pyplot as plt\n",
        "import skimage.io\n",
        "import os\n",
        "import tqdm\n",
        "import glob\n",
        "import tensorflow\n",
        "import numpy as np\n",
        "import pandas as pd\n",
        "import matplotlib.pyplot as plt\n",
        "import os\n",
        "import tensorflow as tf\n",
        "from tensorflow.keras.utils import image_dataset_from_directory\n",
        "from tensorflow.data.experimental import AUTOTUNE\n",
        "from tensorflow.keras import Sequential, Input, Model\n",
        "from tensorflow.keras.layers import RandomRotation, RandomZoom\n",
        "from tensorflow.keras.layers import Conv2D, MaxPooling2D, Flatten, Dense\n",
        "from tensorflow.keras import applications\n",
        "from tensorflow.keras.losses import CategoricalCrossentropy\n",
        "from tensorflow.keras.optimizers import Adam\n",
        "\n",
        "\n",
        "from tqdm import tqdm\n",
        "from sklearn.utils import shuffle\n",
        "from sklearn.model_selection import train_test_split\n",
        "from skimage.io import imread, imshow\n",
        "from skimage.transform import resize\n",
        "from tensorflow.keras.callbacks import ReduceLROnPlateau\n",
        "from tensorflow.keras.models import Sequential\n",
        "from tensorflow.keras.metrics import Precision, AUC,Recall\n",
        "from tensorflow.keras.layers import InputLayer, BatchNormalization, Dropout, Flatten, Dense, Activation, MaxPool2D, Conv2D\n",
        "from tensorflow.keras.callbacks import EarlyStopping, ModelCheckpoint\n",
        "from tensorflow.keras.applications.densenet import DenseNet169\n",
        "import copy\n",
        "import warnings\n",
        "warnings.filterwarnings('ignore')\n",
        "import tensorflow as tf\n",
        "import cv2\n",
        "import keras\n",
        "from tensorflow.keras.utils import load_img, img_to_array\n",
        "import matplotlib\n",
        "import matplotlib.pylab as plt\n",
        "import seaborn as sns\n",
        "from sklearn.utils import shuffle\n",
        "from sklearn.metrics import confusion_matrix\n",
        "from keras.applications.vgg16 import VGG16,preprocess_input\n",
        "from keras.applications.vgg19 import VGG19,preprocess_input\n",
        "from tensorflow.keras.utils import image_dataset_from_directory\n",
        "from tensorflow.keras.optimizers import legacy\n",
        "from skimage.feature import graycomatrix, graycoprops\n",
        "from sklearn.pipeline import Pipeline\n",
        "from sklearn.ensemble import RandomForestClassifier\n",
        "from sklearn.preprocessing import StandardScaler\n",
        "from sklearn.model_selection import train_test_split, GridSearchCV, KFold"
      ],
      "metadata": {
        "execution": {
          "iopub.status.busy": "2024-05-14T06:44:30.422672Z",
          "iopub.execute_input": "2024-05-14T06:44:30.423136Z",
          "iopub.status.idle": "2024-05-14T06:44:47.241362Z",
          "shell.execute_reply.started": "2024-05-14T06:44:30.423104Z",
          "shell.execute_reply": "2024-05-14T06:44:47.240114Z"
        },
        "trusted": true,
        "id": "lX3ouewWpSaj"
      },
      "execution_count": null,
      "outputs": []
    },
    {
      "cell_type": "code",
      "source": [
        "train_dir = '/kaggle/input/cleaned/Training/'\n",
        "test_dir = '/kaggle/input/cleaned/Testing/'\n",
        "\n",
        "train_paths = []\n",
        "train_labels = []\n",
        "\n",
        "for label in os.listdir(train_dir):\n",
        "    for image in os.listdir(train_dir+label):\n",
        "        train_paths.append(train_dir+label+'/'+image)\n",
        "        train_labels.append(label)\n",
        "\n",
        "train_paths, train_labels = shuffle(train_paths, train_labels)"
      ],
      "metadata": {
        "execution": {
          "iopub.status.busy": "2024-05-14T06:44:47.242905Z",
          "iopub.execute_input": "2024-05-14T06:44:47.243566Z",
          "iopub.status.idle": "2024-05-14T06:44:47.256070Z",
          "shell.execute_reply.started": "2024-05-14T06:44:47.243534Z",
          "shell.execute_reply": "2024-05-14T06:44:47.255018Z"
        },
        "trusted": true,
        "id": "d-_4aZBepSal"
      },
      "execution_count": null,
      "outputs": []
    },
    {
      "cell_type": "code",
      "source": [
        "test_paths = []\n",
        "test_labels = []\n",
        "\n",
        "for label in os.listdir(test_dir):\n",
        "    for image in os.listdir(test_dir+label):\n",
        "        test_paths.append(test_dir+label+'/'+image)\n",
        "        test_labels.append(label)\n",
        "\n",
        "test_paths, test_labels = shuffle(test_paths, test_labels)"
      ],
      "metadata": {
        "execution": {
          "iopub.status.busy": "2024-05-14T06:44:47.258633Z",
          "iopub.execute_input": "2024-05-14T06:44:47.258982Z",
          "iopub.status.idle": "2024-05-14T06:44:47.268906Z",
          "shell.execute_reply.started": "2024-05-14T06:44:47.258953Z",
          "shell.execute_reply": "2024-05-14T06:44:47.267891Z"
        },
        "trusted": true,
        "id": "aiXzv6AypSam"
      },
      "execution_count": null,
      "outputs": []
    },
    {
      "cell_type": "code",
      "source": [
        "sizes = [\n",
        "    len([x for x in train_labels if x == 'Pituitary']),\n",
        "    len([x for x in train_labels if x == 'Meningioma']),\n",
        "    len([x for x in train_labels if x == 'Glioma'])\n",
        "]\n",
        "sizes"
      ],
      "metadata": {
        "execution": {
          "iopub.status.busy": "2024-05-14T06:44:47.270489Z",
          "iopub.execute_input": "2024-05-14T06:44:47.270991Z",
          "iopub.status.idle": "2024-05-14T06:44:47.282519Z",
          "shell.execute_reply.started": "2024-05-14T06:44:47.270954Z",
          "shell.execute_reply": "2024-05-14T06:44:47.281428Z"
        },
        "trusted": true,
        "id": "RdmIU3YFpSan",
        "outputId": "2987374d-4a08-48df-86c0-8ab18d184903"
      },
      "execution_count": null,
      "outputs": [
        {
          "execution_count": 5,
          "output_type": "execute_result",
          "data": {
            "text/plain": "[744, 566, 1140]"
          },
          "metadata": {}
        }
      ]
    },
    {
      "cell_type": "markdown",
      "source": [
        "# Visualizing class distribution"
      ],
      "metadata": {
        "id": "wgYNzYiqpSao"
      }
    },
    {
      "cell_type": "markdown",
      "source": [
        "# Distribution of Data between Train and Test Sets"
      ],
      "metadata": {
        "id": "46JunB5ppSaq"
      }
    },
    {
      "cell_type": "code",
      "source": [
        "import matplotlib.pyplot as plt\n",
        "\n",
        "# Combine train and test labels\n",
        "all_labels = train_labels + test_labels\n",
        "\n",
        "# Data\n",
        "labels = ['Pituitary', 'Meningioma', 'Glioma']\n",
        "total_sizes = [\n",
        "    len([x for x in all_labels if x == 'Pituitary']),\n",
        "    len([x for x in all_labels if x == 'Meningioma']),\n",
        "    len([x for x in all_labels if x == 'Glioma'])\n",
        "]\n",
        "\n",
        "# Custom color palette\n",
        "colors = ['#BEF0CB', '#C1AEFC', '#FCCD95']\n",
        "explode = (0.05, 0.05, 0.05)\n",
        "\n",
        "# Plotting\n",
        "plt.figure(figsize=(8, 4))\n",
        "plt.pie(total_sizes, labels=['{} ({})'.format(label, size) for label, size in zip(labels, total_sizes)], colors=colors, autopct='%1.1f%%', explode=explode, startangle=90, wedgeprops=dict(width=0.2))\n",
        "\n",
        "# Title\n",
        "plt.title('Combined Distribution of Tumor Types', fontsize=20)\n",
        "\n",
        "# Equal aspect ratio ensures that pie is drawn as a circle.\n",
        "plt.axis('equal')\n",
        "\n",
        "# Show the plot\n",
        "plt.show()\n"
      ],
      "metadata": {
        "execution": {
          "iopub.status.busy": "2024-05-14T06:44:47.283885Z",
          "iopub.execute_input": "2024-05-14T06:44:47.284269Z",
          "iopub.status.idle": "2024-05-14T06:44:47.522094Z",
          "shell.execute_reply.started": "2024-05-14T06:44:47.284235Z",
          "shell.execute_reply": "2024-05-14T06:44:47.520455Z"
        },
        "trusted": true,
        "id": "Z9UZWp8ipSar",
        "outputId": "f7cc54c0-fe9e-4f15-e360-4b580ff8aae0"
      },
      "execution_count": null,
      "outputs": [
        {
          "output_type": "display_data",
          "data": {
            "text/plain": "<Figure size 800x400 with 1 Axes>",
            "image/png": "[encoded data removed]"
          },
          "metadata": {}
        }
      ]
    },
    {
      "cell_type": "code",
      "source": [
        "import cv2\n",
        "image = cv2.imread(train_paths[0])\n",
        "plt.imshow(image)\n",
        "print(image.shape)\n"
      ],
      "metadata": {
        "execution": {
          "iopub.status.busy": "2024-05-14T06:44:47.524448Z",
          "iopub.execute_input": "2024-05-14T06:44:47.525281Z"
        },
        "trusted": true,
        "id": "z0IdwDmppSas",
        "outputId": "fd7b84cd-f733-4e8a-843f-5d0960e39389"
      },
      "execution_count": null,
      "outputs": [
        {
          "name": "stdout",
          "text": "(256, 256, 3)\n",
          "output_type": "stream"
        }
      ]
    },
    {
      "cell_type": "markdown",
      "source": [
        "# Count of each class"
      ],
      "metadata": {
        "id": "fiDMSUmgpSat"
      }
    },
    {
      "cell_type": "code",
      "source": [
        "# Data\n",
        "classes = ['Glioma','Meningioma','Pituitary']\n",
        "counts = [1426,708,930]\n",
        "colors = ['#FF6347', '#4169E1', '#FFA500']\n",
        "\n",
        "# Plotting the bar chart\n",
        "plt.figure(figsize=(10, 6))  # Adjusting figure size\n",
        "bars = plt.bar(classes, counts, color=colors)\n",
        "\n",
        "# Adding labels and title\n",
        "plt.xlabel('Classes', fontsize=14)\n",
        "plt.ylabel('Counts', fontsize=14)\n",
        "plt.title('Visualization of Data', fontsize=16)\n",
        "\n",
        "# Setting background color\n",
        "plt.gca().set_facecolor('#F5F5F5')\n",
        "\n",
        "# Adding data labels\n",
        "for bar, count in zip(bars, counts):\n",
        "    plt.text(bar.get_x() + bar.get_width() / 2, bar.get_height() + 20, count,\n",
        "             ha='center', va='bottom', fontsize=12, color='black')\n",
        "\n",
        "# Customizing gridlines\n",
        "plt.grid(axis='y', linestyle='--', alpha=0.7)\n",
        "\n",
        "# Removing top and right spines\n",
        "plt.gca().spines['top'].set_visible(False)\n",
        "plt.gca().spines['right'].set_visible(False)\n",
        "\n",
        "# Adjusting tick parameters\n",
        "plt.tick_params(axis='both', which='both', length=0)\n",
        "\n",
        "# Show plot\n",
        "plt.tight_layout()\n",
        "plt.show()\n",
        "plt.savefig('/kaggle/working/Visualization of Data.png')"
      ],
      "metadata": {
        "execution": {
          "iopub.execute_input": "2024-05-14T06:44:47.897552Z",
          "iopub.status.idle": "2024-05-14T06:44:48.316519Z",
          "shell.execute_reply.started": "2024-05-14T06:44:47.897514Z",
          "shell.execute_reply": "2024-05-14T06:44:48.315362Z"
        },
        "trusted": true,
        "id": "PfAWRBwXpSau",
        "outputId": "fc65aee9-373e-48fe-bb8a-1a95b0b04404"
      },
      "execution_count": null,
      "outputs": [
        {
          "output_type": "display_data",
          "data": {
            "text/plain": "<Figure size 1000x600 with 1 Axes>",
            "image/png": "[encoded data removed]"
          },
          "metadata": {}
        },
        {
          "output_type": "display_data",
          "data": {
            "text/plain": "<Figure size 640x480 with 0 Axes>"
          },
          "metadata": {}
        }
      ]
    },
    {
      "cell_type": "code",
      "source": [
        "def train_df(tr_path):\n",
        "    classes = []\n",
        "    class_paths = []\n",
        "    files = os.listdir(tr_path)\n",
        "    for file in files:\n",
        "        label_dir = os.path.join(tr_path, file)\n",
        "        label = os.listdir(label_dir)\n",
        "        for image in label:\n",
        "            image_path = os.path.join(label_dir, image)\n",
        "            class_paths.append(image_path)\n",
        "            classes.append(file)\n",
        "    image_classes = pd.Series(classes, name='Class')\n",
        "    image_paths = pd.Series(class_paths, name='Class Path')\n",
        "    tr_df = pd.concat([image_paths, image_classes], axis=1)\n",
        "    tr_df = shuffle(tr_df, random_state=42)\n",
        "    return tr_df"
      ],
      "metadata": {
        "execution": {
          "iopub.status.busy": "2024-05-14T06:44:48.317751Z",
          "iopub.execute_input": "2024-05-14T06:44:48.318090Z",
          "iopub.status.idle": "2024-05-14T06:44:48.326837Z",
          "shell.execute_reply.started": "2024-05-14T06:44:48.318063Z",
          "shell.execute_reply": "2024-05-14T06:44:48.325577Z"
        },
        "trusted": true,
        "id": "cKyGk0cDpSaw"
      },
      "execution_count": null,
      "outputs": []
    },
    {
      "cell_type": "code",
      "source": [
        "def test_df(ts_path):\n",
        "    classes = []\n",
        "    class_paths = []\n",
        "    files = os.listdir(ts_path)\n",
        "    for file in files:\n",
        "        label_dir = os.path.join(ts_path, file)\n",
        "        label = os.listdir(label_dir)\n",
        "        for image in label:\n",
        "            image_path = os.path.join(label_dir, image)\n",
        "            class_paths.append(image_path)\n",
        "            classes.append(file)\n",
        "    image_classes = pd.Series(classes, name='Class')\n",
        "    image_paths = pd.Series(class_paths, name='Class Path')\n",
        "    ts_df = pd.concat([image_paths, image_classes], axis=1)\n",
        "    return ts_df"
      ],
      "metadata": {
        "execution": {
          "iopub.status.busy": "2024-05-14T06:44:48.330996Z",
          "iopub.execute_input": "2024-05-14T06:44:48.331373Z",
          "iopub.status.idle": "2024-05-14T06:44:48.342378Z",
          "shell.execute_reply.started": "2024-05-14T06:44:48.331343Z",
          "shell.execute_reply": "2024-05-14T06:44:48.341260Z"
        },
        "trusted": true,
        "id": "LaYT2patpSax"
      },
      "execution_count": null,
      "outputs": []
    },
    {
      "cell_type": "code",
      "source": [
        "tr_df = train_df('/kaggle/input/cleaned/Training')\n",
        "ts_df = test_df('/kaggle/input/cleaned/Testing')"
      ],
      "metadata": {
        "execution": {
          "iopub.status.busy": "2024-05-14T06:44:48.343617Z",
          "iopub.execute_input": "2024-05-14T06:44:48.343958Z",
          "iopub.status.idle": "2024-05-14T06:44:48.380524Z",
          "shell.execute_reply.started": "2024-05-14T06:44:48.343931Z",
          "shell.execute_reply": "2024-05-14T06:44:48.379119Z"
        },
        "trusted": true,
        "id": "1Pf8Ds04pSay"
      },
      "execution_count": null,
      "outputs": []
    },
    {
      "cell_type": "code",
      "source": [
        "tr_df"
      ],
      "metadata": {
        "execution": {
          "iopub.status.busy": "2024-05-14T06:44:48.382596Z",
          "iopub.execute_input": "2024-05-14T06:44:48.382969Z",
          "iopub.status.idle": "2024-05-14T06:44:48.398754Z",
          "shell.execute_reply.started": "2024-05-14T06:44:48.382940Z",
          "shell.execute_reply": "2024-05-14T06:44:48.397649Z"
        },
        "trusted": true,
        "id": "xWHbJPCbpSaz",
        "outputId": "614bdd5d-135a-4aee-e5fa-e0e2e214d301"
      },
      "execution_count": null,
      "outputs": [
        {
          "execution_count": 12,
          "output_type": "execute_result",
          "data": {
            "text/plain": "                                             Class Path       Class\n1290  /kaggle/input/cleaned/Training/Meningioma/imag...  Meningioma\n986   /kaggle/input/cleaned/Training/Meningioma/imag...  Meningioma\n2365  /kaggle/input/cleaned/Training/Glioma/image1_1...      Glioma\n642   /kaggle/input/cleaned/Training/Pituitary/image...   Pituitary\n607   /kaggle/input/cleaned/Training/Pituitary/image...   Pituitary\n...                                                 ...         ...\n1638  /kaggle/input/cleaned/Training/Glioma/image1_1...      Glioma\n1095  /kaggle/input/cleaned/Training/Meningioma/imag...  Meningioma\n1130  /kaggle/input/cleaned/Training/Meningioma/imag...  Meningioma\n1294  /kaggle/input/cleaned/Training/Meningioma/imag...  Meningioma\n860   /kaggle/input/cleaned/Training/Meningioma/imag...  Meningioma\n\n[2450 rows x 2 columns]",
            "text/html": "<div>\n<style scoped>\n    .dataframe tbody tr th:only-of-type {\n        vertical-align: middle;\n    }\n\n    .dataframe tbody tr th {\n        vertical-align: top;\n    }\n\n    .dataframe thead th {\n        text-align: right;\n    }\n</style>\n<table border=\"1\" class=\"dataframe\">\n  <thead>\n    <tr style=\"text-align: right;\">\n      <th></th>\n      <th>Class Path</th>\n      <th>Class</th>\n    </tr>\n  </thead>\n  <tbody>\n    <tr>\n      <th>1290</th>\n      <td>/kaggle/input/cleaned/Training/Meningioma/imag...</td>\n      <td>Meningioma</td>\n    </tr>\n    <tr>\n      <th>986</th>\n      <td>/kaggle/input/cleaned/Training/Meningioma/imag...</td>\n      <td>Meningioma</td>\n    </tr>\n    <tr>\n      <th>2365</th>\n      <td>/kaggle/input/cleaned/Training/Glioma/image1_1...</td>\n      <td>Glioma</td>\n    </tr>\n    <tr>\n      <th>642</th>\n      <td>/kaggle/input/cleaned/Training/Pituitary/image...</td>\n      <td>Pituitary</td>\n    </tr>\n    <tr>\n      <th>607</th>\n      <td>/kaggle/input/cleaned/Training/Pituitary/image...</td>\n      <td>Pituitary</td>\n    </tr>\n    <tr>\n      <th>...</th>\n      <td>...</td>\n      <td>...</td>\n    </tr>\n    <tr>\n      <th>1638</th>\n      <td>/kaggle/input/cleaned/Training/Glioma/image1_1...</td>\n      <td>Glioma</td>\n    </tr>\n    <tr>\n      <th>1095</th>\n      <td>/kaggle/input/cleaned/Training/Meningioma/imag...</td>\n      <td>Meningioma</td>\n    </tr>\n    <tr>\n      <th>1130</th>\n      <td>/kaggle/input/cleaned/Training/Meningioma/imag...</td>\n      <td>Meningioma</td>\n    </tr>\n    <tr>\n      <th>1294</th>\n      <td>/kaggle/input/cleaned/Training/Meningioma/imag...</td>\n      <td>Meningioma</td>\n    </tr>\n    <tr>\n      <th>860</th>\n      <td>/kaggle/input/cleaned/Training/Meningioma/imag...</td>\n      <td>Meningioma</td>\n    </tr>\n  </tbody>\n</table>\n<p>2450 rows × 2 columns</p>\n</div>"
          },
          "metadata": {}
        }
      ]
    },
    {
      "cell_type": "code",
      "source": [
        "class_names = ['glioma', 'meningioma', 'pituitary']"
      ],
      "metadata": {
        "execution": {
          "iopub.status.busy": "2024-05-14T06:44:48.400330Z",
          "iopub.execute_input": "2024-05-14T06:44:48.401187Z",
          "iopub.status.idle": "2024-05-14T06:44:48.405808Z",
          "shell.execute_reply.started": "2024-05-14T06:44:48.401156Z",
          "shell.execute_reply": "2024-05-14T06:44:48.404527Z"
        },
        "trusted": true,
        "id": "yzXaawi4pSa0"
      },
      "execution_count": null,
      "outputs": []
    },
    {
      "cell_type": "markdown",
      "source": [
        "# GLCM"
      ],
      "metadata": {
        "id": "vuMRVNmqpSa1"
      }
    },
    {
      "cell_type": "code",
      "source": [
        "def compute_glcm_features(image):\n",
        "    distances = [1]  # You can experiment with different distances\n",
        "#     angles = [0, np.pi/4, np.pi/2, 3*np.pi/4]  # You can experiment with different angles\n",
        "    glcm = graycomatrix(image, distances=distances, angles=[0], levels=256,\n",
        "                        symmetric=True, normed=True)\n",
        "    contrast = graycoprops(glcm, 'contrast').ravel()\n",
        "    energy = graycoprops(glcm, 'energy').ravel()\n",
        "    homogeneity = graycoprops(glcm, 'homogeneity').ravel()\n",
        "    correlation = graycoprops(glcm, 'correlation').ravel()\n",
        "    entropy = -np.sum(glcm * np.log(glcm + 1e-10))  # Compute entropy manually\n",
        "    return np.concatenate((contrast, energy, homogeneity, correlation, [entropy]))"
      ],
      "metadata": {
        "execution": {
          "iopub.status.busy": "2024-05-14T06:44:48.407155Z",
          "iopub.execute_input": "2024-05-14T06:44:48.407556Z",
          "iopub.status.idle": "2024-05-14T06:44:48.418376Z",
          "shell.execute_reply.started": "2024-05-14T06:44:48.407503Z",
          "shell.execute_reply": "2024-05-14T06:44:48.417000Z"
        },
        "trusted": true,
        "id": "TxyI7C2NpSa1"
      },
      "execution_count": null,
      "outputs": []
    },
    {
      "cell_type": "code",
      "source": [
        "def load_and_compute_glcm_features(paths):\n",
        "    features = []\n",
        "    for path in paths:\n",
        "        image = cv2.imread(path, cv2.IMREAD_GRAYSCALE)\n",
        "        glcm_features = compute_glcm_features(image)\n",
        "        features.append(glcm_features)\n",
        "    return np.array(features)"
      ],
      "metadata": {
        "execution": {
          "iopub.status.busy": "2024-05-14T06:44:48.419771Z",
          "iopub.execute_input": "2024-05-14T06:44:48.420120Z",
          "iopub.status.idle": "2024-05-14T06:44:48.432024Z",
          "shell.execute_reply.started": "2024-05-14T06:44:48.420091Z",
          "shell.execute_reply": "2024-05-14T06:44:48.430774Z"
        },
        "trusted": true,
        "id": "OuJOtASspSa2"
      },
      "execution_count": null,
      "outputs": []
    },
    {
      "cell_type": "code",
      "source": [
        "X_features = load_and_compute_glcm_features(tr_df['Class Path'])"
      ],
      "metadata": {
        "execution": {
          "iopub.status.busy": "2024-05-14T06:44:48.433499Z",
          "iopub.execute_input": "2024-05-14T06:44:48.433957Z",
          "iopub.status.idle": "2024-05-14T06:45:19.737148Z",
          "shell.execute_reply.started": "2024-05-14T06:44:48.433917Z",
          "shell.execute_reply": "2024-05-14T06:45:19.736034Z"
        },
        "trusted": true,
        "id": "LwbXhHBepSa3"
      },
      "execution_count": null,
      "outputs": []
    },
    {
      "cell_type": "code",
      "source": [
        "X_features.shape"
      ],
      "metadata": {
        "execution": {
          "iopub.status.busy": "2024-05-14T06:45:19.738607Z",
          "iopub.execute_input": "2024-05-14T06:45:19.738979Z",
          "iopub.status.idle": "2024-05-14T06:45:19.745865Z",
          "shell.execute_reply.started": "2024-05-14T06:45:19.738949Z",
          "shell.execute_reply": "2024-05-14T06:45:19.744486Z"
        },
        "trusted": true,
        "id": "xZWwIpYfpSa3",
        "outputId": "d3843bb6-ac66-4a74-f19a-03b590c53663"
      },
      "execution_count": null,
      "outputs": [
        {
          "execution_count": 17,
          "output_type": "execute_result",
          "data": {
            "text/plain": "(2450, 5)"
          },
          "metadata": {}
        }
      ]
    },
    {
      "cell_type": "code",
      "source": [
        "columns = []\n",
        " # Each GLCM feature set consists of 5 features (contrast, energy, homogeneity, correlation, entropy)\n",
        "columns.extend([\"Contrast\", \"Energy\", \"Homogeneity\", \"Correlation\", \"Entropy\"])\n",
        "\n",
        "df_train = pd.DataFrame(X_features, columns=columns)"
      ],
      "metadata": {
        "execution": {
          "iopub.status.busy": "2024-05-14T06:45:19.747898Z",
          "iopub.execute_input": "2024-05-14T06:45:19.748273Z",
          "iopub.status.idle": "2024-05-14T06:45:19.784277Z",
          "shell.execute_reply.started": "2024-05-14T06:45:19.748240Z",
          "shell.execute_reply": "2024-05-14T06:45:19.783022Z"
        },
        "trusted": true,
        "id": "gK7l2COYpSa4"
      },
      "execution_count": null,
      "outputs": []
    },
    {
      "cell_type": "code",
      "source": [
        "df_train"
      ],
      "metadata": {
        "execution": {
          "iopub.status.busy": "2024-05-14T06:45:19.785940Z",
          "iopub.execute_input": "2024-05-14T06:45:19.786400Z",
          "iopub.status.idle": "2024-05-14T06:45:19.808620Z",
          "shell.execute_reply.started": "2024-05-14T06:45:19.786363Z",
          "shell.execute_reply": "2024-05-14T06:45:19.807547Z"
        },
        "trusted": true,
        "id": "ljlQV0NupSa5",
        "outputId": "3cda126d-a012-4105-ce53-68d6e0d207fd"
      },
      "execution_count": null,
      "outputs": [
        {
          "execution_count": 19,
          "output_type": "execute_result",
          "data": {
            "text/plain": "        Contrast    Energy  Homogeneity  Correlation   Entropy\n0     149.865426  0.042538     0.283451     0.983137  8.145828\n1     240.221569  0.064332     0.300208     0.973852  8.081332\n2     135.191850  0.045357     0.292494     0.984034  7.872927\n3     257.177543  0.034815     0.273827     0.953812  8.126478\n4     327.960968  0.038571     0.218451     0.957456  8.434437\n...          ...       ...          ...          ...       ...\n2445  194.165656  0.058482     0.343813     0.968321  7.369135\n2446   70.712623  0.067284     0.374332     0.991069  7.676563\n2447  323.319286  0.024257     0.199032     0.955090  8.737942\n2448  238.451026  0.027224     0.249029     0.959051  8.465287\n2449  180.692172  0.042623     0.301621     0.974532  7.936132\n\n[2450 rows x 5 columns]",
            "text/html": "<div>\n<style scoped>\n    .dataframe tbody tr th:only-of-type {\n        vertical-align: middle;\n    }\n\n    .dataframe tbody tr th {\n        vertical-align: top;\n    }\n\n    .dataframe thead th {\n        text-align: right;\n    }\n</style>\n<table border=\"1\" class=\"dataframe\">\n  <thead>\n    <tr style=\"text-align: right;\">\n      <th></th>\n      <th>Contrast</th>\n      <th>Energy</th>\n      <th>Homogeneity</th>\n      <th>Correlation</th>\n      <th>Entropy</th>\n    </tr>\n  </thead>\n  <tbody>\n    <tr>\n      <th>0</th>\n      <td>149.865426</td>\n      <td>0.042538</td>\n      <td>0.283451</td>\n      <td>0.983137</td>\n      <td>8.145828</td>\n    </tr>\n    <tr>\n      <th>1</th>\n      <td>240.221569</td>\n      <td>0.064332</td>\n      <td>0.300208</td>\n      <td>0.973852</td>\n      <td>8.081332</td>\n    </tr>\n    <tr>\n      <th>2</th>\n      <td>135.191850</td>\n      <td>0.045357</td>\n      <td>0.292494</td>\n      <td>0.984034</td>\n      <td>7.872927</td>\n    </tr>\n    <tr>\n      <th>3</th>\n      <td>257.177543</td>\n      <td>0.034815</td>\n      <td>0.273827</td>\n      <td>0.953812</td>\n      <td>8.126478</td>\n    </tr>\n    <tr>\n      <th>4</th>\n      <td>327.960968</td>\n      <td>0.038571</td>\n      <td>0.218451</td>\n      <td>0.957456</td>\n      <td>8.434437</td>\n    </tr>\n    <tr>\n      <th>...</th>\n      <td>...</td>\n      <td>...</td>\n      <td>...</td>\n      <td>...</td>\n      <td>...</td>\n    </tr>\n    <tr>\n      <th>2445</th>\n      <td>194.165656</td>\n      <td>0.058482</td>\n      <td>0.343813</td>\n      <td>0.968321</td>\n      <td>7.369135</td>\n    </tr>\n    <tr>\n      <th>2446</th>\n      <td>70.712623</td>\n      <td>0.067284</td>\n      <td>0.374332</td>\n      <td>0.991069</td>\n      <td>7.676563</td>\n    </tr>\n    <tr>\n      <th>2447</th>\n      <td>323.319286</td>\n      <td>0.024257</td>\n      <td>0.199032</td>\n      <td>0.955090</td>\n      <td>8.737942</td>\n    </tr>\n    <tr>\n      <th>2448</th>\n      <td>238.451026</td>\n      <td>0.027224</td>\n      <td>0.249029</td>\n      <td>0.959051</td>\n      <td>8.465287</td>\n    </tr>\n    <tr>\n      <th>2449</th>\n      <td>180.692172</td>\n      <td>0.042623</td>\n      <td>0.301621</td>\n      <td>0.974532</td>\n      <td>7.936132</td>\n    </tr>\n  </tbody>\n</table>\n<p>2450 rows × 5 columns</p>\n</div>"
          },
          "metadata": {}
        }
      ]
    },
    {
      "cell_type": "code",
      "source": [
        "from sklearn.preprocessing import LabelEncoder\n",
        "label_encoder = LabelEncoder()\n",
        "y_encoded = label_encoder.fit_transform(tr_df['Class'])"
      ],
      "metadata": {
        "execution": {
          "iopub.status.busy": "2024-05-14T06:45:19.810054Z",
          "iopub.execute_input": "2024-05-14T06:45:19.810771Z",
          "iopub.status.idle": "2024-05-14T06:45:19.820825Z",
          "shell.execute_reply.started": "2024-05-14T06:45:19.810739Z",
          "shell.execute_reply": "2024-05-14T06:45:19.819725Z"
        },
        "trusted": true,
        "id": "qsWM47nHpSa5"
      },
      "execution_count": null,
      "outputs": []
    },
    {
      "cell_type": "markdown",
      "source": [
        "# Model Creation"
      ],
      "metadata": {
        "id": "z8HddphYpSa6"
      }
    },
    {
      "cell_type": "markdown",
      "source": [
        "# XGBoost"
      ],
      "metadata": {
        "id": "c7yCSMFjpSa6"
      }
    },
    {
      "cell_type": "code",
      "source": [
        "import xgboost as xgb\n",
        "\n",
        "# Step 3: Define a pipeline for preprocessing and training the model\n",
        "xgb_pipeline = Pipeline([\n",
        "    ('scaler', StandardScaler()),  # Feature scaling (optional)\n",
        "    ('classifier', xgb.XGBClassifier())  # XGBoost Classifier\n",
        "])\n",
        "\n",
        "# Step 4: Define hyperparameters to search over\n",
        "param_grid_xgb = {\n",
        "    'classifier__n_estimators': [50, 100, 200],\n",
        "    'classifier__max_depth': [3, 5, 7],\n",
        "    'classifier__learning_rate': [0.01, 0.3, 0.2]\n",
        "}\n",
        "\n",
        "# Step 5: Perform grid search cross-validation with k-fold cross-validation\n",
        "grid_search_xgb = GridSearchCV(xgb_pipeline, param_grid_xgb, n_jobs=-1)\n",
        "grid_search_xgb.fit(X_features, y_encoded)\n",
        "\n",
        "# Step 6: Get the best model and evaluate its performance\n",
        "best_model_xgb = grid_search_xgb.best_estimator_\n",
        "mean_cv_accuracy_xgb = grid_search_xgb.best_score_\n",
        "print(\"Best Model Parameters (XGBoost):\", grid_search_xgb.best_params_)\n",
        "print(\"Mean Cross-Validation Accuracy (XGBoost):\", mean_cv_accuracy_xgb)"
      ],
      "metadata": {
        "execution": {
          "iopub.status.busy": "2024-05-14T06:45:19.822186Z",
          "iopub.execute_input": "2024-05-14T06:45:19.822648Z",
          "iopub.status.idle": "2024-05-14T06:45:41.479556Z",
          "shell.execute_reply.started": "2024-05-14T06:45:19.822610Z",
          "shell.execute_reply": "2024-05-14T06:45:41.478489Z"
        },
        "trusted": true,
        "id": "dI0PKgrrpSa7",
        "outputId": "8dde56af-3689-45d9-f0a1-2bd66f0a4c6b"
      },
      "execution_count": null,
      "outputs": [
        {
          "name": "stdout",
          "text": "Best Model Parameters (XGBoost): {'classifier__learning_rate': 0.2, 'classifier__max_depth': 5, 'classifier__n_estimators': 50}\nMean Cross-Validation Accuracy (XGBoost): 0.7134693877551022\n",
          "output_type": "stream"
        }
      ]
    },
    {
      "cell_type": "code",
      "source": [
        "X_test_features = load_and_compute_glcm_features(test_paths)"
      ],
      "metadata": {
        "execution": {
          "iopub.status.busy": "2024-05-14T06:45:41.484062Z",
          "iopub.execute_input": "2024-05-14T06:45:41.486985Z",
          "iopub.status.idle": "2024-05-14T06:45:48.762752Z",
          "shell.execute_reply.started": "2024-05-14T06:45:41.486942Z",
          "shell.execute_reply": "2024-05-14T06:45:48.761696Z"
        },
        "trusted": true,
        "id": "Ls_cGbaRpSa8"
      },
      "execution_count": null,
      "outputs": []
    },
    {
      "cell_type": "markdown",
      "source": [
        "# Test data predictions"
      ],
      "metadata": {
        "id": "NEH8CfkfpSa9"
      }
    },
    {
      "cell_type": "code",
      "source": [
        "y_pred_XGB = best_model_xgb.predict(X_test_features)"
      ],
      "metadata": {
        "execution": {
          "iopub.status.busy": "2024-05-14T07:26:57.312396Z",
          "iopub.execute_input": "2024-05-14T07:26:57.312794Z",
          "iopub.status.idle": "2024-05-14T07:26:57.325387Z",
          "shell.execute_reply.started": "2024-05-14T07:26:57.312764Z",
          "shell.execute_reply": "2024-05-14T07:26:57.324403Z"
        },
        "trusted": true,
        "id": "azrkuOUNpSa9"
      },
      "execution_count": null,
      "outputs": []
    },
    {
      "cell_type": "code",
      "source": [
        "test_labels_encoded=label_encoder.transform(test_labels)"
      ],
      "metadata": {
        "execution": {
          "iopub.status.busy": "2024-05-14T07:26:58.100173Z",
          "iopub.execute_input": "2024-05-14T07:26:58.100604Z",
          "iopub.status.idle": "2024-05-14T07:26:58.106509Z",
          "shell.execute_reply.started": "2024-05-14T07:26:58.100573Z",
          "shell.execute_reply": "2024-05-14T07:26:58.105219Z"
        },
        "trusted": true,
        "id": "malmcC0QpSa-"
      },
      "execution_count": null,
      "outputs": []
    },
    {
      "cell_type": "code",
      "source": [
        "from sklearn.metrics import mean_squared_error\n",
        "mse = mean_squared_error(test_labels_encoded, y_pred_XGB)\n",
        "print(\"Mean Squared Error:\", mse)"
      ],
      "metadata": {
        "execution": {
          "iopub.status.busy": "2024-05-14T07:26:59.228440Z",
          "iopub.execute_input": "2024-05-14T07:26:59.228816Z",
          "iopub.status.idle": "2024-05-14T07:26:59.235863Z",
          "shell.execute_reply.started": "2024-05-14T07:26:59.228789Z",
          "shell.execute_reply": "2024-05-14T07:26:59.234602Z"
        },
        "trusted": true,
        "id": "qOaNO19LpSa-",
        "outputId": "98446eaf-3a4d-4618-8784-fd3ae9dcf8c5"
      },
      "execution_count": null,
      "outputs": [
        {
          "name": "stdout",
          "text": "Mean Squared Error: 0.4576547231270358\n",
          "output_type": "stream"
        }
      ]
    },
    {
      "cell_type": "markdown",
      "source": [
        "# Confusion Matrix"
      ],
      "metadata": {
        "id": "GTpjcB4lpSa_"
      }
    },
    {
      "cell_type": "code",
      "source": [
        "from sklearn.metrics import confusion_matrix, classification_report\n",
        "# Compute the classification report\n",
        "report = classification_report(test_labels_encoded, y_pred)\n",
        "print(\"Classification Report:\")\n",
        "print(report)"
      ],
      "metadata": {
        "execution": {
          "iopub.status.busy": "2024-05-14T06:45:48.792623Z",
          "iopub.execute_input": "2024-05-14T06:45:48.793068Z",
          "iopub.status.idle": "2024-05-14T06:45:48.812947Z",
          "shell.execute_reply.started": "2024-05-14T06:45:48.793029Z",
          "shell.execute_reply": "2024-05-14T06:45:48.811710Z"
        },
        "trusted": true,
        "id": "9AQHMJbXpSbA",
        "outputId": "6b86bae5-e199-4189-fe03-e0f96a8c77ca"
      },
      "execution_count": null,
      "outputs": [
        {
          "name": "stdout",
          "text": "Classification Report:\n              precision    recall  f1-score   support\n\n           0       0.69      0.82      0.75       286\n           1       0.57      0.37      0.45       142\n           2       0.87      0.86      0.86       186\n\n    accuracy                           0.73       614\n   macro avg       0.71      0.68      0.69       614\nweighted avg       0.72      0.73      0.72       614\n\n",
          "output_type": "stream"
        }
      ]
    },
    {
      "cell_type": "code",
      "source": [
        "from sklearn.metrics import confusion_matrix\n",
        "import itertools\n",
        "import matplotlib.pyplot as plt\n",
        "import numpy as np\n",
        "\n",
        "def plot_confusion_matrix(cm, classes, cmap=plt.cm.Purples):\n",
        "    plt.figure(figsize=(10, 8))\n",
        "    plt.imshow(cm, interpolation='nearest', cmap=cmap)\n",
        "    plt.title('Confusion Matrix', fontsize=16)\n",
        "    plt.colorbar()\n",
        "\n",
        "    tick_marks = np.arange(len(classes))\n",
        "    plt.xticks(tick_marks, classes, rotation=45, fontsize=12)\n",
        "    plt.yticks(tick_marks, classes, fontsize=12)\n",
        "\n",
        "    fmt = 'd'\n",
        "\n",
        "    for i, j in itertools.product(range(cm.shape[0]), range(cm.shape[1])):\n",
        "        plt.text(j, i, format(cm[i, j], fmt),\n",
        "                 horizontalalignment=\"center\",\n",
        "                 color=\"white\" if cm[i, j] > cm.max() / 2 else \"black\",\n",
        "                 fontsize=10)\n",
        "\n",
        "    plt.ylabel('True label', fontsize=14)\n",
        "    plt.xlabel('Predicted label', fontsize=14)\n",
        "    plt.title('Confusion Matrix', fontsize=16)\n",
        "    plt.tight_layout()\n",
        "\n",
        "# Example confusion matrix\n",
        "cm = confusion_matrix(test_labels_encoded, y_pred)\n",
        "plt.figure(figsize=(8, 6))\n",
        "plot_confusion_matrix(cm, class_names)\n",
        "plt.show()\n"
      ],
      "metadata": {
        "execution": {
          "iopub.status.busy": "2024-05-14T06:45:48.814429Z",
          "iopub.execute_input": "2024-05-14T06:45:48.814788Z",
          "iopub.status.idle": "2024-05-14T06:45:49.246770Z",
          "shell.execute_reply.started": "2024-05-14T06:45:48.814759Z",
          "shell.execute_reply": "2024-05-14T06:45:49.245602Z"
        },
        "trusted": true,
        "id": "WgkxP48fpSbA",
        "outputId": "bba7c7c9-e7f8-4021-8a32-ea5661a73ca1"
      },
      "execution_count": null,
      "outputs": [
        {
          "output_type": "display_data",
          "data": {
            "text/plain": "<Figure size 800x600 with 0 Axes>"
          },
          "metadata": {}
        },
        {
          "output_type": "display_data",
          "data": {
            "text/plain": "<Figure size 1000x800 with 2 Axes>",
            "image/png": "[encoded data removed]"
          },
          "metadata": {}
        }
      ]
    }
  ]
}